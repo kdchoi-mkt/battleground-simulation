{
 "cells": [
  {
   "cell_type": "code",
   "execution_count": 1,
   "metadata": {},
   "outputs": [],
   "source": [
    "from bg_simulation.board.Shop import Shop"
   ]
  },
  {
   "cell_type": "code",
   "execution_count": 2,
   "metadata": {},
   "outputs": [],
   "source": [
    "sample = Shop()\n",
    "sample.upgrade_tier()\n",
    "sample.upgrade_tier()\n",
    "sample.upgrade_tier()"
   ]
  },
  {
   "cell_type": "code",
   "execution_count": 3,
   "metadata": {},
   "outputs": [
    {
     "data": {
      "text/plain": [
       "Tier: 4, \n",
       "Pay for Next Level: 9\n",
       "Banned Type: ['Murloc', 'Pirate', 'Elemental']\n",
       "Allowed Type: ['Quilboar', 'Beast', 'Demon', 'Dragon', 'Mech', 'Neutral', 'All']\n",
       "Available Minion: [<Name: 충동적인 마귀, Type: Demon, Attack: 2, Health: 2, Text: 죽음의 메아리: 아군 하수인에게 이 하수인의 최대 생명력을 부여합니다.>\n",
       ", <Name: 가시덩굴 흙점쟁이, Type: Quilboar, Attack: 3, Health: 1, Text: 전투의 함성: 혈석을 얻습니다.>\n",
       ", <Name: 길고양이, Type: Beast, Attack: 1, Health: 1, Text: 전투의 함성: 1/1 고양이를 소환합니다.>\n",
       "]"
      ]
     },
     "execution_count": 3,
     "metadata": {},
     "output_type": "execute_result"
    }
   ],
   "source": [
    "sample"
   ]
  },
  {
   "cell_type": "code",
   "execution_count": 4,
   "metadata": {},
   "outputs": [],
   "source": [
    "sample.turn_end()"
   ]
  },
  {
   "cell_type": "code",
   "execution_count": 5,
   "metadata": {},
   "outputs": [
    {
     "data": {
      "text/plain": [
       "Tier: 4, \n",
       "Pay for Next Level: 8\n",
       "Banned Type: ['Murloc', 'Pirate', 'Elemental']\n",
       "Allowed Type: ['Quilboar', 'Beast', 'Demon', 'Dragon', 'Mech', 'Neutral', 'All']\n",
       "Available Minion: [<Name: 제국의 무장, Type: Neutral, Attack: 4, Health: 4, Text: 아군 도발 하수인이 공격당할 때마다 그 하수인에게 영구히 공격력을 +2 부여합니다.>\n",
       ", <Name: 기계보행전차, Type: Mech, Attack: 6, Health: 3, Text: 복수 (2): 생명력이 가장 높은 적 하수인에게 피해를 6 줍니다.>\n",
       ", <Name: 되살리는 방울뱀, Type: Beast, Attack: 6, Health: 2, Text: 전투의 함성: 아군 야수에게 환생을 부여합니다.>\n",
       ", <Name: 안녕모듈, Type: Mech, Attack: 2, Health: 4, Text: 합체, 도발, 천상의 보호막>\n",
       "]"
      ]
     },
     "execution_count": 5,
     "metadata": {},
     "output_type": "execute_result"
    }
   ],
   "source": [
    "sample"
   ]
  },
  {
   "cell_type": "code",
   "execution_count": null,
   "metadata": {},
   "outputs": [],
   "source": []
  }
 ],
 "metadata": {
  "kernelspec": {
   "display_name": "Python 3",
   "language": "python",
   "name": "python3"
  },
  "language_info": {
   "codemirror_mode": {
    "name": "ipython",
    "version": 3
   },
   "file_extension": ".py",
   "mimetype": "text/x-python",
   "name": "python",
   "nbconvert_exporter": "python",
   "pygments_lexer": "ipython3",
   "version": "3.8.2"
  }
 },
 "nbformat": 4,
 "nbformat_minor": 4
}
