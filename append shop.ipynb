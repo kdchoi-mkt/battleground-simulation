{
 "cells": [
  {
   "cell_type": "code",
   "execution_count": 1,
   "metadata": {},
   "outputs": [],
   "source": [
    "from bg_simulation.board.Shop import Shop"
   ]
  },
  {
   "cell_type": "code",
   "execution_count": 2,
   "metadata": {},
   "outputs": [],
   "source": [
    "sample = Shop()\n",
    "sample.upgrade_tier()\n",
    "sample.upgrade_tier()\n",
    "sample.upgrade_tier()"
   ]
  },
  {
   "cell_type": "code",
   "execution_count": 3,
   "metadata": {},
   "outputs": [
    {
     "data": {
      "text/plain": [
       "Tier: 4, \n",
       "Pay for Next Level: 9\n",
       "Banned Type: ['Quilboar', 'Demon', 'Dragon']\n",
       "Allowed Type: ['Beast', 'Murloc', 'Elemental', 'Pirate', 'Mech', 'Neutral', 'All']\n",
       "Available Minion: [<Name: 분노의 명인, Type: Neutral, Attack: 1, Health: 3, Text: 내가 악마를 낸 후에, 내 영웅에게 피해를 1 주고 +2/+2를 얻습니다.>\n",
       ", <Name: 원기회복의 변형물, Type: Elemental, Attack: 1, Health: 4, Text: 전투의 함성: 내 다음 새로고침의 비용이 (0)이 됩니다.>\n",
       ", <Name: 뱃사람, Type: Pirate, Attack: 2, Health: 1, Text: 죽음의 메아리: 1/1 해적을 소환합니다. 그 해적이 즉시 공격합니다.>\n",
       "]"
      ]
     },
     "execution_count": 3,
     "metadata": {},
     "output_type": "execute_result"
    }
   ],
   "source": [
    "sample"
   ]
  },
  {
   "cell_type": "code",
   "execution_count": 4,
   "metadata": {},
   "outputs": [
    {
     "data": {
      "text/plain": [
       "Tier: 4, \n",
       "Pay for Next Level: 8\n",
       "Banned Type: ['Quilboar', 'Demon', 'Dragon']\n",
       "Allowed Type: ['Beast', 'Murloc', 'Elemental', 'Pirate', 'Mech', 'Neutral', 'All']\n",
       "Available Minion: [<Name: 파지직거리는 회오리, Type: Elemental, Attack: 4, Health: 1, Text: 천상의 보호막, 질풍>\n",
       ", <Name: 짠내 나는 밀수꾼, Type: Pirate, Attack: 4, Health: 4, Text: 내 턴이 끝날 때, 내 전장에 다른 해적이 있으면 황금 동전을 내 손으로 가져옵니다.>\n",
       ", <Name: 길고양이, Type: Beast, Attack: 1, Health: 1, Text: 전투의 함성: 1/1 고양이를 소환합니다.>\n",
       ", <Name: 멧돼지의 예언자, Type: Neutral, Attack: 2, Health: 3, Text: 한 턴에 한 번: 내가 가시멧돼지를 낸 후에, 혈석을 얻습니다.>\n",
       "]"
      ]
     },
     "execution_count": 4,
     "metadata": {},
     "output_type": "execute_result"
    }
   ],
   "source": [
    "sample.turn_end()\n",
    "sample"
   ]
  },
  {
   "cell_type": "code",
   "execution_count": 5,
   "metadata": {},
   "outputs": [
    {
     "data": {
      "text/plain": [
       "Tier: 4, \n",
       "Pay for Next Level: 7\n",
       "Banned Type: ['Quilboar', 'Demon', 'Dragon']\n",
       "Allowed Type: ['Beast', 'Murloc', 'Elemental', 'Pirate', 'Mech', 'Neutral', 'All']\n",
       "Available Minion: [<Name: 재활용 망령, Type: Elemental, Attack: 5, Health: 4, Text: 내가 정령을 낸 후에, 내 다음 새로고침의 비용이 (0)이 됩니다.>\n",
       ", <Name: 판다네 정령, Type: Elemental, Attack: 2, Health: 2, Text: 이 하수인을 팔면, 2/2 정령을 내 손으로 가져옵니다.>\n",
       ", <Name: 사냥개조련사, Type: Neutral, Attack: 4, Health: 3, Text: 전투의 함성: 아군 야수에게 +2/+2와 도발을 부여합니다.>\n",
       ", <Name: 분노의 명인, Type: Neutral, Attack: 1, Health: 3, Text: 내가 악마를 낸 후에, 내 영웅에게 피해를 1 주고 +2/+2를 얻습니다.>\n",
       "]"
      ]
     },
     "execution_count": 5,
     "metadata": {},
     "output_type": "execute_result"
    }
   ],
   "source": [
    "sample.turn_end()\n",
    "sample"
   ]
  },
  {
   "cell_type": "code",
   "execution_count": 6,
   "metadata": {},
   "outputs": [
    {
     "data": {
      "text/plain": [
       "Tier: 4, \n",
       "Pay for Next Level: 6\n",
       "Banned Type: ['Quilboar', 'Demon', 'Dragon']\n",
       "Allowed Type: ['Beast', 'Murloc', 'Elemental', 'Pirate', 'Mech', 'Neutral', 'All']\n",
       "Available Minion: [<Name: 느조스의 피조물, Type: Neutral, Attack: 2, Health: 2, Text: 죽음의 메아리: 내 하수인들에게 +1/+1을 부여합니다.>\n",
       ", <Name: 바위웅덩이 사냥꾼, Type: Murloc, Attack: 2, Health: 3, Text: 전투의 함성: 아군 멀록에게 +1/+1을 부여합니다.>\n",
       ", <Name: 진화하는 오색날개 , Type: Mech, Attack: 1, Health: 3, Text: 내가 선술집을 강화한 후에, 이 하수인은 공격력이 2배가 됩니다.>\n",
       ", <Name: 피어나는 그린썸, Type: Neutral, Attack: 1, Health: 2, Text: 복수 (3): 양옆의 하수인들에게 영구히 +2/+1을 부여합니다.>\n",
       "]"
      ]
     },
     "execution_count": 6,
     "metadata": {},
     "output_type": "execute_result"
    }
   ],
   "source": [
    "sample.turn_end()\n",
    "sample"
   ]
  },
  {
   "cell_type": "code",
   "execution_count": 7,
   "metadata": {},
   "outputs": [
    {
     "data": {
      "text/plain": [
       "Tier: 4, \n",
       "Pay for Next Level: 5\n",
       "Banned Type: ['Quilboar', 'Demon', 'Dragon']\n",
       "Allowed Type: ['Beast', 'Murloc', 'Elemental', 'Pirate', 'Mech', 'Neutral', 'All']\n",
       "Available Minion: [<Name: 청소부 하이에나, Type: Beast, Attack: 2, Health: 2, Text: 아군 야수가 죽을 때마다 +2/+1을 얻습니다.>\n",
       ", <Name: 헌신적인 영웅, Type: Neutral, Attack: 2, Health: 1, Text: 죽음의 메아리: 무작위 아군 하수인에게 천상의 보호막을 부여합니다.>\n",
       ", <Name: 하수도 쥐, Type: Beast, Attack: 3, Health: 2, Text: 죽음의 메아리: 도발 능력이 있는 2/3 거북이를 소환합니다.>\n",
       ", <Name: 허드렛일 약골, Type: Pirate, Attack: 5, Health: 3, Text: 내 손으로 카드를 가져온 후에, 다른 무작위 해적에게 +1/+1을 부여합니다.>\n",
       "]"
      ]
     },
     "execution_count": 7,
     "metadata": {},
     "output_type": "execute_result"
    }
   ],
   "source": [
    "sample.turn_end()\n",
    "sample"
   ]
  },
  {
   "cell_type": "code",
   "execution_count": 8,
   "metadata": {},
   "outputs": [
    {
     "data": {
      "text/plain": [
       "Tier: 4, \n",
       "Pay for Next Level: 4\n",
       "Banned Type: ['Quilboar', 'Demon', 'Dragon']\n",
       "Allowed Type: ['Beast', 'Murloc', 'Elemental', 'Pirate', 'Mech', 'Neutral', 'All']\n",
       "Available Minion: [<Name: 성급한 파멸의 예언자 , Type: Neutral, Attack: 2, Health: 6, Text: 복수 (3): 무작위 악마를 내 손으로 가져옵니다.>\n",
       ", <Name: 불안정한 구울, Type: Neutral, Attack: 1, Health: 3, Text: 도발. 죽음의 메아리: 모든 하수인에게 피해를 1 줍니다.>\n",
       ", <Name: 허수아비골렘, Type: Mech, Attack: 2, Health: 3, Text: 죽음의 메아리: 2/1 손상된 골렘을 소환합니다.>\n",
       ", <Name: 폴짝개구리 , Type: Beast, Attack: 3, Health: 3, Text: 죽음의 메아리: 아군 야수에게 +2/+2와 이 죽음의 메아리를 부여합니다.>\n",
       "]"
      ]
     },
     "execution_count": 8,
     "metadata": {},
     "output_type": "execute_result"
    }
   ],
   "source": [
    "sample.turn_end()\n",
    "sample"
   ]
  },
  {
   "cell_type": "code",
   "execution_count": 9,
   "metadata": {},
   "outputs": [
    {
     "data": {
      "text/plain": [
       "Tier: 5, \n",
       "Pay for Next Level: 10\n",
       "Banned Type: ['Quilboar', 'Demon', 'Dragon']\n",
       "Allowed Type: ['Beast', 'Murloc', 'Elemental', 'Pirate', 'Mech', 'Neutral', 'All']\n",
       "Available Minion: [<Name: 성급한 파멸의 예언자 , Type: Neutral, Attack: 2, Health: 6, Text: 복수 (3): 무작위 악마를 내 손으로 가져옵니다.>\n",
       ", <Name: 불안정한 구울, Type: Neutral, Attack: 1, Health: 3, Text: 도발. 죽음의 메아리: 모든 하수인에게 피해를 1 줍니다.>\n",
       ", <Name: 허수아비골렘, Type: Mech, Attack: 2, Health: 3, Text: 죽음의 메아리: 2/1 손상된 골렘을 소환합니다.>\n",
       ", <Name: 폴짝개구리 , Type: Beast, Attack: 3, Health: 3, Text: 죽음의 메아리: 아군 야수에게 +2/+2와 이 죽음의 메아리를 부여합니다.>\n",
       "]"
      ]
     },
     "execution_count": 9,
     "metadata": {},
     "output_type": "execute_result"
    }
   ],
   "source": [
    "sample.upgrade_tier()\n",
    "sample"
   ]
  },
  {
   "cell_type": "code",
   "execution_count": 10,
   "metadata": {},
   "outputs": [
    {
     "data": {
      "text/plain": [
       "Tier: 6, \n",
       "Pay for Next Level: 0\n",
       "Banned Type: ['Quilboar', 'Demon', 'Dragon']\n",
       "Allowed Type: ['Beast', 'Murloc', 'Elemental', 'Pirate', 'Mech', 'Neutral', 'All']\n",
       "Available Minion: [<Name: 성급한 파멸의 예언자 , Type: Neutral, Attack: 2, Health: 6, Text: 복수 (3): 무작위 악마를 내 손으로 가져옵니다.>\n",
       ", <Name: 불안정한 구울, Type: Neutral, Attack: 1, Health: 3, Text: 도발. 죽음의 메아리: 모든 하수인에게 피해를 1 줍니다.>\n",
       ", <Name: 허수아비골렘, Type: Mech, Attack: 2, Health: 3, Text: 죽음의 메아리: 2/1 손상된 골렘을 소환합니다.>\n",
       ", <Name: 폴짝개구리 , Type: Beast, Attack: 3, Health: 3, Text: 죽음의 메아리: 아군 야수에게 +2/+2와 이 죽음의 메아리를 부여합니다.>\n",
       "]"
      ]
     },
     "execution_count": 10,
     "metadata": {},
     "output_type": "execute_result"
    }
   ],
   "source": [
    "sample.upgrade_tier()\n",
    "sample"
   ]
  },
  {
   "cell_type": "code",
   "execution_count": 11,
   "metadata": {},
   "outputs": [
    {
     "data": {
      "text/plain": [
       "Tier: 6, \n",
       "Pay for Next Level: 0\n",
       "Banned Type: ['Quilboar', 'Demon', 'Dragon']\n",
       "Allowed Type: ['Beast', 'Murloc', 'Elemental', 'Pirate', 'Mech', 'Neutral', 'All']\n",
       "Available Minion: [<Name: 증식하는 위협, Type: Mech, Attack: 3, Health: 1, Text: 합체, 죽음의 메아리: 1/1 초소형 로봇을 셋 소환합니다.>\n",
       ", <Name: 사냥개조련사, Type: Neutral, Attack: 4, Health: 3, Text: 전투의 함성: 아군 야수에게 +2/+2와 도발을 부여합니다.>\n",
       ", <Name: 판다네 정령, Type: Elemental, Attack: 2, Health: 2, Text: 이 하수인을 팔면, 2/2 정령을 내 손으로 가져옵니다.>\n",
       ", <Name: 괴물 앵무, Type: Beast, Attack: 5, Health: 3, Text: 이 하수인이 공격한 후에, 무작위 아군 하수인의 죽음의 메아리 능력을 발동시킵니다.>\n",
       ", <Name: 파티의 정령, Type: Elemental, Attack: 3, Health: 2, Text: 내가 정령을 낸 후에, 다른 무작위 아군 정령에게 +1/+1을 부여합니다.>\n",
       ", <Name: 판다네 정령, Type: Elemental, Attack: 2, Health: 2, Text: 이 하수인을 팔면, 2/2 정령을 내 손으로 가져옵니다.>\n",
       "]"
      ]
     },
     "execution_count": 11,
     "metadata": {},
     "output_type": "execute_result"
    }
   ],
   "source": [
    "sample.turn_end()\n",
    "sample"
   ]
  },
  {
   "cell_type": "code",
   "execution_count": 12,
   "metadata": {},
   "outputs": [
    {
     "data": {
      "text/plain": [
       "Tier: 6, \n",
       "Pay for Next Level: 0\n",
       "Banned Type: ['Quilboar', 'Demon', 'Dragon']\n",
       "Allowed Type: ['Beast', 'Murloc', 'Elemental', 'Pirate', 'Mech', 'Neutral', 'All']\n",
       "Available Minion: [<Name: 사바나 사자, Type: Beast, Attack: 6, Health: 5, Text: 죽음의 메아리: 2/2 하이에나를 2마리 소환합니다.>\n",
       ", <Name: 참견쟁이 노략꾼, Type: Pirate, Attack: 7, Health: 6, Text: 두 턴마다 무작위 황금 하수인을 내 손으로 가져옵니다.>\n",
       ", <Name: 녹아내린 바위, Type: Elemental, Attack: 2, Health: 4, Text: 도발, 내가 정령을 낸 후에, 생명력을 +1 얻습니다.>\n",
       ", <Name: 소금비늘 우두머리 , Type: Murloc, Attack: 3, Health: 2, Text: 내가 멀록을 낸 후에, 다른 아군 멀록 둘에게 생명력을 +1 부여합니다.>\n",
       ", <Name: 초소형 미라, Type: Mech, Attack: 1, Health: 2, Text: 환생, 내 턴이 끝날 때, 다른 무작위 아군 하수인에게 공격력을 +1 부여합니다.>\n",
       ", <Name: 칸고르의 수습생, Type: Neutral, Attack: 3, Health: 6, Text: 죽음의 메아리: 이번 전투에서 가장 먼저 죽은 아군 기계 둘을 소환합니다.>\n",
       "]"
      ]
     },
     "execution_count": 12,
     "metadata": {},
     "output_type": "execute_result"
    }
   ],
   "source": [
    "sample.turn_end()\n",
    "sample"
   ]
  },
  {
   "cell_type": "code",
   "execution_count": 13,
   "metadata": {},
   "outputs": [
    {
     "data": {
      "text/plain": [
       "Tier: 6, \n",
       "Pay for Next Level: 0\n",
       "Banned Type: ['Quilboar', 'Demon', 'Dragon']\n",
       "Allowed Type: ['Beast', 'Murloc', 'Elemental', 'Pirate', 'Mech', 'Neutral', 'All']\n",
       "Available Minion: [<Name: 사바나 사자, Type: Beast, Attack: 6, Health: 5, Text: 죽음의 메아리: 2/2 하이에나를 2마리 소환합니다.>\n",
       ", <Name: 참견쟁이 노략꾼, Type: Pirate, Attack: 7, Health: 6, Text: 두 턴마다 무작위 황금 하수인을 내 손으로 가져옵니다.>\n",
       ", <Name: 녹아내린 바위, Type: Elemental, Attack: 2, Health: 4, Text: 도발, 내가 정령을 낸 후에, 생명력을 +1 얻습니다.>\n",
       ", <Name: 소금비늘 우두머리 , Type: Murloc, Attack: 3, Health: 2, Text: 내가 멀록을 낸 후에, 다른 아군 멀록 둘에게 생명력을 +1 부여합니다.>\n",
       ", <Name: 초소형 미라, Type: Mech, Attack: 1, Health: 2, Text: 환생, 내 턴이 끝날 때, 다른 무작위 아군 하수인에게 공격력을 +1 부여합니다.>\n",
       ", <Name: 칸고르의 수습생, Type: Neutral, Attack: 3, Health: 6, Text: 죽음의 메아리: 이번 전투에서 가장 먼저 죽은 아군 기계 둘을 소환합니다.>\n",
       "]"
      ]
     },
     "execution_count": 13,
     "metadata": {},
     "output_type": "execute_result"
    }
   ],
   "source": [
    "sample.upgrade_tier()\n",
    "sample"
   ]
  },
  {
   "cell_type": "code",
   "execution_count": null,
   "metadata": {},
   "outputs": [],
   "source": []
  }
 ],
 "metadata": {
  "kernelspec": {
   "display_name": "Python 3",
   "language": "python",
   "name": "python3"
  },
  "language_info": {
   "codemirror_mode": {
    "name": "ipython",
    "version": 3
   },
   "file_extension": ".py",
   "mimetype": "text/x-python",
   "name": "python",
   "nbconvert_exporter": "python",
   "pygments_lexer": "ipython3",
   "version": "3.8.2"
  }
 },
 "nbformat": 4,
 "nbformat_minor": 4
}
