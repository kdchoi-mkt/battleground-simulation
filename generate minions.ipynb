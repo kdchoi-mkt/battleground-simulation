{
 "cells": [
  {
   "cell_type": "code",
   "execution_count": 1,
   "metadata": {},
   "outputs": [],
   "source": [
    "from bg_simulation.minion_generator.ExtractInfo import ExtractInfo\n",
    "from bg_simulation.minion_generator.MinionGenerator import MinionGenerator\n",
    "from bg_simulation.minion_generator.ResetCardlist import ResetCardlist\n",
    "from bg_simulation.minion_generator.constant import TYPE_CONVERTER\n",
    "from bg_simulation.minion_generator.MinionGroupAppender import MinionGroupAppender"
   ]
  },
  {
   "cell_type": "code",
   "execution_count": 2,
   "metadata": {},
   "outputs": [],
   "source": [
    "extract_list = [ExtractInfo(f'./bg_simulation/resources/Tier{e}.txt') for e in range(1, 7)]"
   ]
  },
  {
   "cell_type": "code",
   "execution_count": 3,
   "metadata": {
    "tags": []
   },
   "outputs": [
    {
     "name": "stdout",
     "output_type": "stream",
     "text": [
      "list index out of range\n",
      "list index out of range\n",
      "list index out of range\n",
      "list index out of range\n",
      "list index out of range\n",
      "list index out of range\n",
      "list index out of range\n",
      "list index out of range\n",
      "list index out of range\n",
      "list index out of range\n",
      "list index out of range\n",
      "list index out of range\n",
      "list index out of range\n",
      "list index out of range\n",
      "'1(2)'\n",
      "invalid literal for int() with base 10: '2와 죽음의 메아리'\n",
      "list index out of range\n",
      "list index out of range\n",
      "list index out of range\n",
      "list index out of range\n"
     ]
    }
   ],
   "source": [
    "for ext_inf in extract_list:\n",
    "    for card_info in ext_inf.extract_info():\n",
    "        MinionGenerator(card_info).save_card()\n",
    "\n",
    "for type in TYPE_CONVERTER.values():\n",
    "    MinionGroupAppender(f'./bg_simulation/card/{type}/__init__.py').append_minion_group()"
   ]
  },
  {
   "cell_type": "code",
   "execution_count": 7,
   "metadata": {},
   "outputs": [],
   "source": [
    "for type in TYPE_CONVERTER.values():\n",
    "    ResetCardlist(f\"./bg_simulation/card/{type}\").remove_information()"
   ]
  },
  {
   "cell_type": "code",
   "execution_count": null,
   "metadata": {},
   "outputs": [],
   "source": []
  }
 ],
 "metadata": {
  "kernelspec": {
   "display_name": "Python 3",
   "language": "python",
   "name": "python3"
  },
  "language_info": {
   "codemirror_mode": {
    "name": "ipython",
    "version": 3
   },
   "file_extension": ".py",
   "mimetype": "text/x-python",
   "name": "python",
   "nbconvert_exporter": "python",
   "pygments_lexer": "ipython3",
   "version": "3.8.2"
  }
 },
 "nbformat": 4,
 "nbformat_minor": 4
}
